{
 "cells": [
  {
   "cell_type": "code",
   "execution_count": null,
   "metadata": {},
   "outputs": [],
   "source": [
    "CRNN+GRAPHEMIZER+BnHTR.ipynb"
   ]
  },
  {
   "cell_type": "code",
   "execution_count": 1,
   "metadata": {},
   "outputs": [],
   "source": [
    "import os, json\n",
    "from PIL import Image\n",
    "import numpy as np\n",
    "\n",
    "import torch\n",
    "from torch.utils.data import DataLoader\n",
    "import torch.optim as optim\n",
    "from torch.nn import CTCLoss"
   ]
  },
  {
   "cell_type": "code",
   "execution_count": 2,
   "metadata": {},
   "outputs": [],
   "source": [
    "\n",
    "from data.dataset import TextDataset as TDataset\n",
    "from data.data_utils import collate_fn\n",
    "from trainer.train import train\n",
    "from trainer.sequence_decoder import ctc_decode\n",
    "from modeling.model_utils import load_model\n",
    "\n",
    "from data.custom_sampler import CustomDatasetSampler\n",
    "from configs.config_crnn import train_config\n",
    "from configs.dataconfig import (\n",
    "    train_source, val_source, mapper, test_sources\n",
    ")\n",
    "from utils.augment import Augmentation"
   ]
  },
  {
   "cell_type": "code",
   "execution_count": 3,
   "metadata": {},
   "outputs": [],
   "source": [
    "os.makedirs(train_config['checkpoints_dir'], exist_ok=True)"
   ]
  },
  {
   "cell_type": "code",
   "execution_count": 4,
   "metadata": {},
   "outputs": [],
   "source": [
    "def load_backbone(model, saved_path):\n",
    "    current_model_dict = model.state_dict()\n",
    "    loaded_state_dict = torch.load(saved_path)\n",
    "    loaded_state_dict = loaded_state_dict['state_dict']\n",
    "\n",
    "    new_state_dict= {\n",
    "        k: v if v.size() == current_model_dict[k].size()  \n",
    "        else  current_model_dict[k] \n",
    "        for k, v in zip(current_model_dict.keys(), loaded_state_dict.values())\n",
    "    }\n",
    "\n",
    "    mis_matched_layers = [\n",
    "        k for k,v in zip(current_model_dict.keys(), loaded_state_dict.values())\n",
    "        if v.size() != current_model_dict[k].size()\n",
    "    ]\n",
    "\n",
    "    if mis_matched_layers:\n",
    "        print(f\"{len(mis_matched_layers)} layers found.\")\n",
    "        print(mis_matched_layers)  \n",
    "   \n",
    "    model.load_state_dict(new_state_dict, strict=True)\n",
    "\n",
    "    print('model loaded successfully')\n",
    "    return model"
   ]
  },
  {
   "cell_type": "code",
   "execution_count": 6,
   "metadata": {},
   "outputs": [],
   "source": [
    "def define_crnn_model(cfg, num_class, reload_checkpoint = ''):\n",
    "    from modeling.crnn import CRNN\n",
    "    config = cfg\n",
    "\n",
    "    crnn = CRNN(\n",
    "        1, \n",
    "        num_class,\n",
    "        map_to_seq_hidden=config['map_to_seq_hidden'],\n",
    "        rnn_hidden=config['rnn_hidden'],\n",
    "        leaky_relu=config['leaky_relu']\n",
    "    )\n",
    "\n",
    "    if reload_checkpoint:\n",
    "        crnn = load_model(crnn, reload_checkpoint)\n",
    "        print('model loaded successfully')\n",
    "\n",
    "    return crnn"
   ]
  },
  {
   "cell_type": "code",
   "execution_count": 7,
   "metadata": {},
   "outputs": [
    {
     "name": "stdout",
     "output_type": "stream",
     "text": [
      "Selected Tokenizer: TrieTokenizer\n",
      "Max Sequence Length: 64\n",
      "Normalize Text: True\n",
      "Normalizar: unicode\n",
      "Normalization Mode: NFKC\n",
      "Warning: \"out_of_vocabulary_info\" will be updated as per new vocab\n",
      "update completed.[2143] new vocabs added. Current vocab count: 2145\n"
     ]
    }
   ],
   "source": [
    "from BnTokenizer import TrieTokenizer\n",
    "from BnTokenizer.base import BnGraphemizer\n",
    "\n",
    "tokenizer = BnGraphemizer(\n",
    "    tokenizer_class=TrieTokenizer,\n",
    "    max_len=64,\n",
    "    normalize_unicode=True,\n",
    "    normalization_mode='NFKC',\n",
    "    normalizer=\"unicode\",\n",
    "    printer=print\n",
    ")\n",
    "\n",
    "graphemes = json.load(open(\"graphemes.json\", 'r'))\n",
    "tokenizer.add_tokens(graphemes,reset_oov=True)"
   ]
  },
  {
   "cell_type": "code",
   "execution_count": null,
   "metadata": {},
   "outputs": [],
   "source": [
    "tokenizer.save_vocab(f\"{train_config['checkpoints_dir']}/tokenizer_vocab.json\")"
   ]
  },
  {
   "cell_type": "code",
   "execution_count": 8,
   "metadata": {},
   "outputs": [
    {
     "name": "stdout",
     "output_type": "stream",
     "text": [
      "Out of 21026 boise_camera_train,21026 are kept after filtering\n",
      "Total data 21026\n",
      "Out of 20367 boise_scan_train,20367 are kept after filtering\n",
      "Total data 41393\n",
      "Out of 5798 boise_conjunct_train,5798 are kept after filtering\n",
      "Total data 47191\n",
      "Out of 25000 syn_boise_conjunct_train,5000 are kept after filtering\n",
      "Total data 52191\n"
     ]
    }
   ],
   "source": [
    "from data.data_source_controller import DataSourceController\n",
    "\n",
    "process_text = lambda x : x.replace('\\u200c','').replace(\"\\u200d\", '')\n",
    "\n",
    "train_data = DataSourceController(\n",
    "    filter=lambda x: len(x.label)<30, \n",
    "    transform= process_text\n",
    ")\n",
    "for k  in [\n",
    "    'boise_camera_train', \n",
    "    'boise_scan_train', \n",
    "    'boise_conjunct_train', \n",
    "    'syn_boise_conjunct_train',\n",
    "    # 'bn_grapheme_train',\n",
    "    # 'syn_train'\n",
    "    # \"bangla_writting_train\"\n",
    "    # \"bn_htr_train\"\n",
    "\n",
    "]:\n",
    "    train_data.add_data(**train_source[k])"
   ]
  },
  {
   "cell_type": "code",
   "execution_count": 9,
   "metadata": {},
   "outputs": [
    {
     "name": "stdout",
     "output_type": "stream",
     "text": [
      "Out of 2630 boise_camera_val,2630 are kept after filtering\n",
      "Total data 2630\n",
      "Out of 2620 boise_scan_val,2620 are kept after filtering\n",
      "Total data 5250\n",
      "Out of 824 boise_conjunct_val,824 are kept after filtering\n",
      "Total data 6074\n"
     ]
    }
   ],
   "source": [
    "val_data = DataSourceController(\n",
    "    filter=lambda x: len(x.label)<30,\n",
    "    transform= process_text\n",
    ")\n",
    "for k in[\n",
    "    'boise_camera_val',\n",
    "    'boise_scan_val', \n",
    "    'boise_conjunct_val', \n",
    "    # 'syn_val',\n",
    "    # 'syn_boise_conjunct_val',\n",
    "    # #'bn_grapheme_val',\n",
    "    # \"bangla_writting_val\",\n",
    "    # \"bn_htr_val\"\n",
    "\n",
    "]:\n",
    "    val_data.add_data(**val_source[k])"
   ]
  },
  {
   "cell_type": "code",
   "execution_count": 10,
   "metadata": {},
   "outputs": [
    {
     "name": "stdout",
     "output_type": "stream",
     "text": [
      "Total 52191 Images found!!!\n"
     ]
    },
    {
     "data": {
      "text/plain": [
       "408"
      ]
     },
     "execution_count": 10,
     "metadata": {},
     "output_type": "execute_result"
    }
   ],
   "source": [
    "train_dataset = TDataset(\n",
    "    train_data.data,\n",
    "    tokenizer,\n",
    "    img_height= 32,\n",
    "    img_width= 128,\n",
    "    noiseAugment= Augmentation(.50)\n",
    ")\n",
    "\n",
    "# sampler=CustomDatasetSampler(\n",
    "#     train_dataset,\n",
    "#     num_samples = train_config['max_sample_per_epoch'],\n",
    "#     labels = [mapper[d.id] for d in data.data], \n",
    "# ) \n",
    "\n",
    "dataloader = DataLoader(train_dataset, \n",
    "        batch_size= train_config['train_batch_size'], \n",
    "        collate_fn=collate_fn, \n",
    "        shuffle = True,#train_config['shuffle'],\n",
    "        prefetch_factor = train_config['prefetch_factor'],\n",
    "        num_workers = train_config['cpu_workers'],\n",
    "        #sampler = sampler\n",
    ")\n",
    "len(dataloader)"
   ]
  },
  {
   "cell_type": "code",
   "execution_count": 11,
   "metadata": {},
   "outputs": [
    {
     "name": "stdout",
     "output_type": "stream",
     "text": [
      "Total 6074 Images found!!!\n"
     ]
    },
    {
     "data": {
      "text/plain": [
       "48"
      ]
     },
     "execution_count": 11,
     "metadata": {},
     "output_type": "execute_result"
    }
   ],
   "source": [
    "val_dataset = TDataset(\n",
    "    val_data.data,\n",
    "    tokenizer,\n",
    "    img_height= 32,\n",
    "    img_width= 128,\n",
    "    #noiseAugment= NoiseAugment()\n",
    ")\n",
    "\n",
    "# val_sampler=CustomDatasetSampler(\n",
    "#     val_dataset,\n",
    "#     num_samples = 12800,\n",
    "#     labels = [mapper[d.id] for d in val_data.data]\n",
    "# ) \n",
    "\n",
    "val_dataloader = DataLoader(val_dataset, \n",
    "        batch_size= train_config['train_batch_size'], \n",
    "        collate_fn=collate_fn, \n",
    "        prefetch_factor = train_config['prefetch_factor'],\n",
    "        num_workers = train_config['cpu_workers'],\n",
    "        #sampler = val_sampler\n",
    "        \n",
    "    )\n",
    "len(val_dataloader)"
   ]
  },
  {
   "cell_type": "code",
   "execution_count": null,
   "metadata": {},
   "outputs": [],
   "source": [
    "train_config['max_iter'] = 170\n",
    "train_config['epochs'] = 60\n",
    "\n",
    "device = torch.device(\n",
    "    'cuda' if torch.cuda.is_available() else 'cpu'\n",
    ")\n",
    "\n",
    "model = define_crnn_model(train_config, len(tokenizer.vocab) + 1)\n",
    "model.to(device)\n",
    "\n",
    "optimizer = torch.optim.AdamW(model.parameters(), lr=train_config['lr'])\n",
    "scheduler = optim.lr_scheduler.ReduceLROnPlateau(\n",
    "    optimizer, \n",
    "    mode = 'min', \n",
    "    factor = .4, \n",
    "    patience = 5,\n",
    "    verbose= True,\n",
    "    min_lr= 0.000001\n",
    ")\n",
    "\n",
    "criterion = CTCLoss(\n",
    "    reduction='sum', \n",
    "    zero_infinity=True\n",
    ").to(device)"
   ]
  },
  {
   "cell_type": "code",
   "execution_count": null,
   "metadata": {},
   "outputs": [],
   "source": [
    "model = train(\n",
    "    train_config, model, optimizer,scheduler,\n",
    "    criterion, device, dataloader, val_dataloader\n",
    ")"
   ]
  },
  {
   "cell_type": "code",
   "execution_count": null,
   "metadata": {},
   "outputs": [],
   "source": [
    "from trainer.evaluate import evaluate\n",
    "evaluation = evaluate(\n",
    "    model, \n",
    "    val_dataloader, \n",
    "    criterion,\n",
    "    decode_method=train_config['decode_method'],\n",
    "    beam_size=train_config['beam_size'],\n",
    "    max_iter= train_config['max_iter'] \n",
    ")"
   ]
  },
  {
   "cell_type": "code",
   "execution_count": null,
   "metadata": {},
   "outputs": [],
   "source": [
    "checkpoint =  torch.load(\n",
    "    \"artifacts/crnn/CRNN+GRAPHEMIZER+BTHR+Boise/crnn_044500_loss_0.8612_acc_0.8996.pt\"\n",
    ")\n",
    "model.load_state_dict(checkpoint['model'])\n",
    "model.to(device)\n",
    "model.eval()"
   ]
  },
  {
   "cell_type": "code",
   "execution_count": null,
   "metadata": {},
   "outputs": [],
   "source": [
    "def inference(\n",
    "    cfg, model, inf_loader,tokenizer,\n",
    "    decode_method='beam_search',\n",
    "    beam_size=10,\n",
    "    save_image=True\n",
    "):\n",
    "    \n",
    "    import pandas as pd\n",
    "    from utils.utils import levenshtein_distance\n",
    "    from trainer.evaluate import predict\n",
    "\n",
    "\n",
    "\n",
    "    fun = lambda x: ''.join([tokenizer.vocab[i] for i in x]).replace('<oov>', '▁')\n",
    "\n",
    "    prediciton_info = predict(\n",
    "        model, inf_loader,tokenizer,\n",
    "        decode_method='beam_search',\n",
    "        beam_size=beam_size\n",
    "    )\n",
    "    (all_gts, all_preds, wrong_cases, who_are_we) = prediciton_info\n",
    "\n",
    "    report = pd.DataFrame.from_dict((\n",
    "        {\n",
    "            'GroundTruth':list(map(fun,all_gts)),\n",
    "            'Prediction': list(map(fun,all_preds))\n",
    "        }\n",
    "    ))\n",
    "\n",
    "    report['Edit Distance'] = list(\n",
    "        map(lambda x: levenshtein_distance(*x,True),\n",
    "        zip(report['GroundTruth'], report['Prediction']))\n",
    "    )\n",
    "    report['GT Length'] = [len(i) for i in report['GroundTruth']]\n",
    "    report['Split'] = [i.split('|')[0] for i in who_are_we]\n",
    "    report['Path'] =  [i.split('|')[-1] for i in who_are_we]\n",
    "    \n",
    "    saving_dir = f\"{cfg['checkpoints_dir']}/report.checkpoints.{who_are_we[0].split('|')[0]}.test.xlsx\"\n",
    "    report.to_excel(f\"{cfg['checkpoints_dir']}/report.checkpoints.{who_are_we[0].split('|')[0]}.test.textonly.xlsx\")\n",
    "\n",
    "    if save_image:\n",
    "        writer = pd.ExcelWriter(saving_dir, engine='xlsxwriter')\n",
    "        report.to_excel(writer, sheet_name='Sheet1')\n",
    "        workbook  = writer.book\n",
    "        worksheet = writer.sheets['Sheet1']\n",
    "\n",
    "        i = 2\n",
    "        for img in report['Path']:\n",
    "            worksheet.insert_image(f'H{i}', img)\n",
    "            i += 1\n",
    "        writer.save()\n",
    "\n",
    "    return report"
   ]
  },
  {
   "cell_type": "code",
   "execution_count": null,
   "metadata": {},
   "outputs": [],
   "source": [
    "test_sources.update(\n",
    "   {\n",
    "        \"boise_camera_test\": {\n",
    "            'data': '/home/jahid/Music/bn_dataset/boiseState/camera/split/test_annotaion.json',\n",
    "            'base_dir': '/home/jahid/Music/bn_dataset/boiseState/camera/split/test_crop_images',\n",
    "            'id': 'boise_camera_test'\n",
    "        },\n",
    "        \"boise_scan_test\": {\n",
    "            'data': '/home/jahid/Music/bn_dataset/boiseState/scan/split/test_annotaion.json',\n",
    "            'base_dir': '/home/jahid/Music/bn_dataset/boiseState/scan/split/test_crop_images',\n",
    "            'id': 'boise_scan_test'\n",
    "        },\n",
    "        \"boise_conjunct_test\": {\n",
    "            'data': '/home/jahid/Music/bn_dataset/boiseState/conjunct/split/test_annotaion.json',\n",
    "            'base_dir': '/home/jahid/Music/bn_dataset/boiseState/conjunct/split/test_crop_images',\n",
    "            'id': 'boise_conjunct_test'\n",
    "        }\n",
    "    }\n",
    ")\n",
    "test_sources"
   ]
  },
  {
   "cell_type": "code",
   "execution_count": null,
   "metadata": {},
   "outputs": [],
   "source": [
    "from data.data_source_controller import DataSourceController\n",
    "for k, v in test_sources.items():\n",
    "    if k not in  [\n",
    "        'bn_htr_test',\n",
    "        'boise_scan_test',\n",
    "        'boise_camera_test',\n",
    "        'boise_conjunct_test'\n",
    "    ]: \n",
    "        continue\n",
    "    val_data = DataSourceController(filter=lambda x: len(x.label)<30, transform= process_text)\n",
    "\n",
    "    print(k,v.get('n'))\n",
    "    #continue\n",
    "    val_data.add_data(**v)\n",
    "\n",
    "    val_dataset = TDataset(\n",
    "        val_data.data,\n",
    "        tokenizer,\n",
    "        img_height= 32,\n",
    "        img_width= 128\n",
    "    )\n",
    "\n",
    "    val_dataloader = DataLoader(\n",
    "        val_dataset, \n",
    "        batch_size= train_config['train_batch_size'], \n",
    "        collate_fn=collate_fn, \n",
    "        prefetch_factor = 1,\n",
    "        num_workers = 4\n",
    "    )\n",
    "    report = inference(train_config, model, val_dataloader,tokenizer, save_image=True)"
   ]
  },
  {
   "cell_type": "code",
   "execution_count": null,
   "metadata": {},
   "outputs": [],
   "source": [
    "import glob\n",
    "import pandas as pd\n",
    "for xl in sorted(glob.glob(f\"{train_config['checkpoints_dir']}/*only.xlsx\")):\n",
    "    _report = pd.read_excel(xl, engine='openpyxl').fillna('')\n",
    "    _report = _report[_report['Edit Distance']>0]\n",
    "\n",
    "    writer = pd.ExcelWriter(xl.replace('.xlsx', '.error.xlsx'), engine='xlsxwriter')\n",
    "    _report.to_excel(writer, sheet_name='Sheet1')\n",
    "    workbook  = writer.book\n",
    "    worksheet = writer.sheets['Sheet1']\n",
    "\n",
    "    i = 2\n",
    "    for img in _report['Path']:\n",
    "        worksheet.insert_image(f'K{i}', img)\n",
    "        i += 1\n",
    "    writer.save()"
   ]
  },
  {
   "cell_type": "code",
   "execution_count": null,
   "metadata": {},
   "outputs": [],
   "source": [
    "import torchmetrics\n",
    "import pandas as pd\n",
    "import glob\n",
    "\n",
    "\n",
    "process_text = lambda x : x.replace('\\u200c','')\n",
    "for xl in sorted(glob.glob(f\"{train_config['checkpoints_dir']}/*only.xlsx\")):\n",
    "    _report = pd.read_excel(xl).fillna('')\n",
    "    try:\n",
    "        _report['GroundTruth'] = _report['GroundTruth'].apply(process_text)\n",
    "        _report['Prediction'] = _report['Prediction'].apply(process_text)\n",
    "        print(xl.split('/')[-1])\n",
    "        print(\"    Char Error Rate\",torchmetrics.CharErrorRate()(_report['GroundTruth'], _report['Prediction']))\n",
    "        print(\"    Word Error Rate\",sum(_report['GroundTruth'] !=_report['Prediction'])/len(_report))\n",
    "        print(\"    Word Accuracy\",sum(_report['GroundTruth'] ==_report['Prediction'])/len(_report))\n",
    "    except Exception as e:\n",
    "        print(e)\n",
    "        print(xl.split('/')[-1])"
   ]
  },
  {
   "cell_type": "code",
   "execution_count": null,
   "metadata": {},
   "outputs": [],
   "source": [
    "\n",
    "%%writefile example.txt\n"
   ]
  },
  {
   "cell_type": "code",
   "execution_count": null,
   "metadata": {},
   "outputs": [],
   "source": [
    "import torchmetrics\n",
    "import pandas as pd\n",
    "import glob\n",
    "\n",
    "\n",
    "process_text = lambda x : x.replace('\\u200c','')\n",
    "for xl in sorted(glob.glob(f\"artifacts/crnn/CRNN+GRAPHEMIZER+BnHTR/*only.xlsx\")):\n",
    "    _report = pd.read_excel(xl).fillna('')\n",
    "    try:\n",
    "        _report['GroundTruth'] = _report['GroundTruth'].apply(process_text)\n",
    "        _report['Prediction'] = _report['Prediction'].apply(process_text)\n",
    "        print(xl.split('/')[-1])\n",
    "        print(\"    Char Error Rate\",torchmetrics.CharErrorRate()(_report['GroundTruth'], _report['Prediction']))\n",
    "        print(\"    Word Accuracy\",sum(_report['GroundTruth']==_report['Prediction'])/len(_report))\n",
    "    except Exception as e:\n",
    "        print(e)\n",
    "        print(xl.split('/')[-1])"
   ]
  },
  {
   "cell_type": "code",
   "execution_count": null,
   "metadata": {},
   "outputs": [],
   "source": [
    "model.eval()\n",
    "\n",
    "\n",
    "def paste_in_the_middle( image: Image, canvas: Image):\n",
    "    cw, ch = canvas.size\n",
    "    image.thumbnail((cw, ch), Image.ANTIALIAS)\n",
    "    w, h = image.size\n",
    "\n",
    "    if w < cw:\n",
    "        canvas.paste(image, ((cw-w)//2,0)) \n",
    "    elif h < ch:\n",
    "        canvas.paste(image, (0,(ch-h)//2))\n",
    "    elif w ==cw and h == ch:\n",
    "        canvas = image\n",
    "    else:\n",
    "        image.resize((cw, ch))\n",
    "        canvas = image\n",
    "    return canvas\n",
    "\n",
    "idx = 11\n",
    "\n",
    "all_images = glob.glob(\"/home/jahid/Downloads/bn_dataset/ocr_hw_data/data/*.jpg\")\n",
    "\n",
    "op = []\n",
    "\n",
    "#for i in tqdm(range(0,len(all_images)//15, 128)):\n",
    "\n",
    "images = all_images[0*64:0*128+64]\n",
    "test_images = []\n",
    "for i in range(len(images)):\n",
    "    image = Image.open(images[i]).convert('L')\n",
    "\n",
    "\n",
    "    canvas = Image.new('L', (128, 32), color = 'white')\n",
    "    image = paste_in_the_middle(image.copy(), canvas.copy())\n",
    "\n",
    "    image = np.array(image)\n",
    "    image = np.expand_dims(image, axis=0)\n",
    "    image = (image / 127.5) - 1.0\n",
    "    test_images.append(image)\n",
    "\n",
    "test_images = torch.FloatTensor(np.array(test_images))\n",
    "#test_images = torch.unsqueeze(test_images, dim=0)\n",
    "\n",
    "with torch.no_grad():\n",
    "    logits = model(test_images.to('cuda'))\n",
    "    log_probs = torch.nn.functional.log_softmax(logits, dim=2)\n",
    "\n",
    "batch_size = test_images.size(0)\n",
    "\n",
    "input_lengths = torch.LongTensor([logits.size(0)] * batch_size)\n",
    "preds = ctc_decode(log_probs.detach(), method='beam_search', beam_size=10)\n",
    "op.extend(tokenizer.ids_to_text(preds))"
   ]
  },
  {
   "cell_type": "code",
   "execution_count": null,
   "metadata": {},
   "outputs": [],
   "source": [
    "list(zip(images,op))"
   ]
  },
  {
   "cell_type": "code",
   "execution_count": null,
   "metadata": {},
   "outputs": [],
   "source": []
  },
  {
   "cell_type": "code",
   "execution_count": null,
   "metadata": {},
   "outputs": [],
   "source": []
  },
  {
   "cell_type": "code",
   "execution_count": null,
   "metadata": {},
   "outputs": [],
   "source": []
  },
  {
   "cell_type": "code",
   "execution_count": null,
   "metadata": {},
   "outputs": [],
   "source": [
    "import torchmetrics\n",
    "import pandas as pd\n",
    "import glob\n",
    "\n",
    "\n",
    "process_text = lambda x : x.replace('\\u200c','')\n",
    "for xl in sorted(glob.glob(f\"artifacts/crnn/CRNN+GRAPHEMIZER+Boise/*only.xlsx\")):\n",
    "    _report = pd.read_excel(xl).fillna('')\n",
    "    try:\n",
    "        _report['GroundTruth'] = _report['GroundTruth'].apply(process_text)\n",
    "        _report['Prediction'] = _report['Prediction'].apply(process_text)\n",
    "        print(xl.split('/')[-1])\n",
    "        print(\"    Char Error Rate\",torchmetrics.CharErrorRate()(_report['GroundTruth'], _report['Prediction']))\n",
    "        print(\"    Word Error Rate\",sum(_report['GroundTruth'] !=_report['Prediction'])/len(_report))\n",
    "        print(\"    Word Accuracy\",sum(_report['GroundTruth'] ==_report['Prediction'])/len(_report))\n",
    "    except Exception as e:\n",
    "        print(e)\n",
    "        print(xl.split('/')[-1])"
   ]
  },
  {
   "cell_type": "code",
   "execution_count": null,
   "metadata": {},
   "outputs": [],
   "source": [
    "import torchmetrics\n",
    "import pandas as pd\n",
    "import glob\n",
    "\n",
    "\n",
    "process_text = lambda x : x.replace('\\u200c','')\n",
    "for xl in sorted(glob.glob(f\"artifacts/crnn/CRNN+GRAPHEMIZER+Boise+char/*only.xlsx\")):\n",
    "    _report = pd.read_excel(xl).fillna('')\n",
    "    try:\n",
    "        _report['GroundTruth'] = _report['GroundTruth'].apply(process_text)\n",
    "        _report['Prediction'] = _report['Prediction'].apply(process_text)\n",
    "        print(xl.split('/')[-1])\n",
    "        print(\"    Char Error Rate\",torchmetrics.CharErrorRate()(_report['GroundTruth'], _report['Prediction']))\n",
    "        print(\"    Word Error Rate\",sum(_report['GroundTruth'] !=_report['Prediction'])/len(_report))\n",
    "        print(\"    Word Accuracy\",sum(_report['GroundTruth'] ==_report['Prediction'])/len(_report))\n",
    "    except Exception as e:\n",
    "        print(e)\n",
    "        print(xl.split('/')[-1])"
   ]
  },
  {
   "cell_type": "code",
   "execution_count": null,
   "metadata": {},
   "outputs": [],
   "source": [
    "import torchmetrics\n",
    "import pandas as pd\n",
    "import glob\n",
    "\n",
    "\n",
    "process_text = lambda x : x.replace('\\u200c','')\n",
    "for xl in sorted(glob.glob(f\"artifacts/crnn/CRNN+GRAPHEMIZER+BTHR/*only.xlsx\")):\n",
    "    _report = pd.read_excel(xl).fillna('')\n",
    "    try:\n",
    "        _report['GroundTruth'] = _report['GroundTruth'].apply(process_text)\n",
    "        _report['Prediction'] = _report['Prediction'].apply(process_text)\n",
    "        print(xl.split('/')[-1])\n",
    "        print(\"    Char Error Rate\",torchmetrics.CharErrorRate()(_report['GroundTruth'], _report['Prediction']))\n",
    "        print(\"    Word Error Rate\",sum(_report['GroundTruth'] !=_report['Prediction'])/len(_report))\n",
    "        print(\"    Word Accuracy\",sum(_report['GroundTruth'] ==_report['Prediction'])/len(_report))\n",
    "    except Exception as e:\n",
    "        print(e)\n",
    "        print(xl.split('/')[-1])"
   ]
  },
  {
   "cell_type": "code",
   "execution_count": null,
   "metadata": {},
   "outputs": [],
   "source": [
    "import torchmetrics\n",
    "import pandas as pd\n",
    "import glob\n",
    "\n",
    "\n",
    "process_text = lambda x : x.replace('\\u200c','')\n",
    "for xl in sorted(glob.glob(f\"artifacts/crnn/CRNN+GRAPHEMIZER+BTHR+char/*only.xlsx\")):\n",
    "    _report = pd.read_excel(xl).fillna('')\n",
    "    try:\n",
    "        _report['GroundTruth'] = _report['GroundTruth'].apply(process_text)\n",
    "        _report['Prediction'] = _report['Prediction'].apply(process_text)\n",
    "        print(xl.split('/')[-1])\n",
    "        print(\"    Char Error Rate\",torchmetrics.CharErrorRate()(_report['GroundTruth'], _report['Prediction']))\n",
    "        print(\"    Word Error Rate\",sum(_report['GroundTruth'] !=_report['Prediction'])/len(_report))\n",
    "        print(\"    Word Accuracy\",sum(_report['GroundTruth'] ==_report['Prediction'])/len(_report))\n",
    "    except Exception as e:\n",
    "        print(e)\n",
    "        print(xl.split('/')[-1])"
   ]
  }
 ],
 "metadata": {
  "kernelspec": {
   "display_name": "Python 3.9.13 ('pytorch1.10')",
   "language": "python",
   "name": "python3"
  },
  "language_info": {
   "codemirror_mode": {
    "name": "ipython",
    "version": 3
   },
   "file_extension": ".py",
   "mimetype": "text/x-python",
   "name": "python",
   "nbconvert_exporter": "python",
   "pygments_lexer": "ipython3",
   "version": "3.9.13"
  },
  "orig_nbformat": 4,
  "vscode": {
   "interpreter": {
    "hash": "ed5d878878b9f6b71826320145ffe862892db6a15203f4cdc0137670dfd93d2b"
   }
  }
 },
 "nbformat": 4,
 "nbformat_minor": 2
}
