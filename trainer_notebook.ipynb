{
 "cells": [
  {
   "cell_type": "code",
   "execution_count": 1,
   "metadata": {},
   "outputs": [],
   "source": [
    "import os, json\n",
    "from PIL import Image\n",
    "import numpy as np\n",
    "\n",
    "import torch\n",
    "from torch.utils.data import DataLoader\n",
    "import torch.optim as optim\n",
    "from torch.nn import CTCLoss"
   ]
  },
  {
   "cell_type": "code",
   "execution_count": 2,
   "metadata": {},
   "outputs": [],
   "source": [
    "\n",
    "from data.dataset import TextDataset as TDataset\n",
    "from data.data_utils import collate_fn\n",
    "from trainer.train import train\n",
    "from trainer.sequence_decoder import ctc_decode\n",
    "from modeling.model_utils import load_model\n",
    "\n",
    "from data.custom_sampler import CustomDatasetSampler\n",
    "from configs.config_crnn import train_config\n",
    "from configs.dataconfig import (\n",
    "    train_source, val_source, mapper, test_sources\n",
    ")\n",
    "from utils.augment import Augmentation"
   ]
  },
  {
   "cell_type": "code",
   "execution_count": 3,
   "metadata": {},
   "outputs": [],
   "source": [
    "os.makedirs(train_config['checkpoints_dir'], exist_ok=True)"
   ]
  },
  {
   "cell_type": "code",
   "execution_count": 4,
   "metadata": {},
   "outputs": [],
   "source": [
    "def load_backbone(model, saved_path):\n",
    "    current_model_dict = model.state_dict()\n",
    "    loaded_state_dict = torch.load(saved_path)\n",
    "    loaded_state_dict = loaded_state_dict['state_dict']\n",
    "\n",
    "    new_state_dict= {\n",
    "        k: v if v.size() == current_model_dict[k].size()  \n",
    "        else  current_model_dict[k] \n",
    "        for k, v in zip(current_model_dict.keys(), loaded_state_dict.values())\n",
    "    }\n",
    "\n",
    "    mis_matched_layers = [\n",
    "        k for k,v in zip(current_model_dict.keys(), loaded_state_dict.values())\n",
    "        if v.size() != current_model_dict[k].size()\n",
    "    ]\n",
    "\n",
    "    if mis_matched_layers:\n",
    "        print(f\"{len(mis_matched_layers)} layers found.\")\n",
    "        print(mis_matched_layers)  \n",
    "   \n",
    "    model.load_state_dict(new_state_dict, strict=True)\n",
    "\n",
    "    print('model loaded successfully')\n",
    "    return model"
   ]
  },
  {
   "cell_type": "code",
   "execution_count": 6,
   "metadata": {},
   "outputs": [],
   "source": [
    "def define_crnn_model(cfg, num_class, reload_checkpoint = ''):\n",
    "    from modeling.crnn import CRNN\n",
    "    config = cfg\n",
    "\n",
    "    crnn = CRNN(\n",
    "        1, \n",
    "        num_class,\n",
    "        map_to_seq_hidden=config['map_to_seq_hidden'],\n",
    "        rnn_hidden=config['rnn_hidden'],\n",
    "        leaky_relu=config['leaky_relu']\n",
    "    )\n",
    "\n",
    "    if reload_checkpoint:\n",
    "        crnn = load_model(crnn, reload_checkpoint)\n",
    "        print('model loaded successfully')\n",
    "\n",
    "    return crnn"
   ]
  },
  {
   "cell_type": "code",
   "execution_count": 7,
   "metadata": {},
   "outputs": [
    {
     "name": "stdout",
     "output_type": "stream",
     "text": [
      "Selected Tokenizer: TrieTokenizer\n",
      "Max Sequence Length: 64\n",
      "Normalize Text: True\n",
      "Normalizar: unicode\n",
      "Normalization Mode: NFKC\n",
      "Warning: \"out_of_vocabulary_info\" will be updated as per new vocab\n",
      "update completed.[2143] new vocabs added. Current vocab count: 2145\n"
     ]
    }
   ],
   "source": [
    "from BnTokenizer import TrieTokenizer\n",
    "from BnTokenizer.base import BnGraphemizer\n",
    "\n",
    "tokenizer = BnGraphemizer(\n",
    "    tokenizer_class=TrieTokenizer,\n",
    "    max_len=64,\n",
    "    normalize_unicode=True,\n",
    "    normalization_mode='NFKC',\n",
    "    normalizer=\"unicode\",\n",
    "    printer=print\n",
    ")\n",
    "\n",
    "graphemes = json.load(open(\"graphemes.json\", 'r'))\n",
    "tokenizer.add_tokens(graphemes,reset_oov=True)"
   ]
  },
  {
   "cell_type": "code",
   "execution_count": null,
   "metadata": {},
   "outputs": [],
   "source": [
    "tokenizer.save_vocab(f\"{train_config['checkpoints_dir']}/tokenizer_vocab.json\")"
   ]
  },
  {
   "cell_type": "code",
   "execution_count": 8,
   "metadata": {},
   "outputs": [
    {
     "name": "stdout",
     "output_type": "stream",
     "text": [
      "Out of 21026 boise_camera_train,21026 are kept after filtering\n",
      "Total data 21026\n",
      "Out of 20367 boise_scan_train,20367 are kept after filtering\n",
      "Total data 41393\n",
      "Out of 5798 boise_conjunct_train,5798 are kept after filtering\n",
      "Total data 47191\n",
      "Out of 25000 syn_boise_conjunct_train,5000 are kept after filtering\n",
      "Total data 52191\n"
     ]
    }
   ],
   "source": [
    "from data.data_source_controller import DataSourceController\n",
    "\n",
    "process_text = lambda x : x.replace('\\u200c','').replace(\"\\u200d\", '')\n",
    "\n",
    "train_data = DataSourceController(\n",
    "    filter=lambda x: len(x.label)<30, \n",
    "    transform= process_text\n",
    ")\n",
    "for k  in [\n",
    "    'boise_camera_train', \n",
    "    'boise_scan_train', \n",
    "    'boise_conjunct_train', \n",
    "    'syn_boise_conjunct_train',\n",
    "    # 'bn_grapheme_train',\n",
    "    # 'syn_train'\n",
    "    # \"bangla_writting_train\"\n",
    "    # \"bn_htr_train\"\n",
    "\n",
    "]:\n",
    "    train_data.add_data(**train_source[k])"
   ]
  },
  {
   "cell_type": "code",
   "execution_count": 9,
   "metadata": {},
   "outputs": [
    {
     "name": "stdout",
     "output_type": "stream",
     "text": [
      "Out of 2630 boise_camera_val,2630 are kept after filtering\n",
      "Total data 2630\n",
      "Out of 2620 boise_scan_val,2620 are kept after filtering\n",
      "Total data 5250\n",
      "Out of 824 boise_conjunct_val,824 are kept after filtering\n",
      "Total data 6074\n"
     ]
    }
   ],
   "source": [
    "val_data = DataSourceController(\n",
    "    filter=lambda x: len(x.label)<30,\n",
    "    transform= process_text\n",
    ")\n",
    "for k in[\n",
    "    'boise_camera_val',\n",
    "    'boise_scan_val', \n",
    "    'boise_conjunct_val', \n",
    "    # 'syn_val',\n",
    "    # 'syn_boise_conjunct_val',\n",
    "    # #'bn_grapheme_val',\n",
    "    # \"bangla_writting_val\",\n",
    "    # \"bn_htr_val\"\n",
    "\n",
    "]:\n",
    "    val_data.add_data(**val_source[k])"
   ]
  },
  {
   "cell_type": "code",
   "execution_count": 10,
   "metadata": {},
   "outputs": [
    {
     "name": "stdout",
     "output_type": "stream",
     "text": [
      "Total 52191 Images found!!!\n"
     ]
    },
    {
     "data": {
      "text/plain": [
       "408"
      ]
     },
     "execution_count": 10,
     "metadata": {},
     "output_type": "execute_result"
    }
   ],
   "source": [
    "train_dataset = TDataset(\n",
    "    train_data.data,\n",
    "    tokenizer,\n",
    "    img_height= 32,\n",
    "    img_width= 128,\n",
    "    noiseAugment= Augmentation(.50)\n",
    ")\n",
    "\n",
    "# sampler=CustomDatasetSampler(\n",
    "#     train_dataset,\n",
    "#     num_samples = train_config['max_sample_per_epoch'],\n",
    "#     labels = [mapper[d.id] for d in data.data], \n",
    "# ) \n",
    "\n",
    "dataloader = DataLoader(train_dataset, \n",
    "        batch_size= train_config['train_batch_size'], \n",
    "        collate_fn=collate_fn, \n",
    "        shuffle = True,#train_config['shuffle'],\n",
    "        prefetch_factor = train_config['prefetch_factor'],\n",
    "        num_workers = train_config['cpu_workers'],\n",
    "        #sampler = sampler\n",
    ")\n",
    "len(dataloader)"
   ]
  },
  {
   "cell_type": "code",
   "execution_count": 11,
   "metadata": {},
   "outputs": [
    {
     "name": "stdout",
     "output_type": "stream",
     "text": [
      "Total 6074 Images found!!!\n"
     ]
    },
    {
     "data": {
      "text/plain": [
       "48"
      ]
     },
     "execution_count": 11,
     "metadata": {},
     "output_type": "execute_result"
    }
   ],
   "source": [
    "val_dataset = TDataset(\n",
    "    val_data.data,\n",
    "    tokenizer,\n",
    "    img_height= 32,\n",
    "    img_width= 128,\n",
    "    #noiseAugment= NoiseAugment()\n",
    ")\n",
    "\n",
    "# val_sampler=CustomDatasetSampler(\n",
    "#     val_dataset,\n",
    "#     num_samples = 12800,\n",
    "#     labels = [mapper[d.id] for d in val_data.data]\n",
    "# ) \n",
    "\n",
    "val_dataloader = DataLoader(val_dataset, \n",
    "        batch_size= train_config['train_batch_size'], \n",
    "        collate_fn=collate_fn, \n",
    "        prefetch_factor = train_config['prefetch_factor'],\n",
    "        num_workers = train_config['cpu_workers'],\n",
    "        #sampler = val_sampler\n",
    "        \n",
    "    )\n",
    "len(val_dataloader)"
   ]
  },
  {
   "cell_type": "code",
   "execution_count": null,
   "metadata": {},
   "outputs": [],
   "source": [
    "train_config['max_iter'] = 170\n",
    "train_config['epochs'] = 60\n",
    "\n",
    "device = torch.device(\n",
    "    'cuda' if torch.cuda.is_available() else 'cpu'\n",
    ")\n",
    "\n",
    "model = define_crnn_model(train_config, len(tokenizer.vocab) + 1)\n",
    "model.to(device)\n",
    "\n",
    "optimizer = torch.optim.AdamW(model.parameters(), lr=train_config['lr'])\n",
    "scheduler = optim.lr_scheduler.ReduceLROnPlateau(\n",
    "    optimizer, \n",
    "    mode = 'min', \n",
    "    factor = .4, \n",
    "    patience = 5,\n",
    "    verbose= True,\n",
    "    min_lr= 0.000001\n",
    ")\n",
    "\n",
    "criterion = CTCLoss(\n",
    "    reduction='sum', \n",
    "    zero_infinity=True\n",
    ").to(device)"
   ]
  },
  {
   "cell_type": "code",
   "execution_count": null,
   "metadata": {},
   "outputs": [],
   "source": [
    "model = train(\n",
    "    train_config, model, optimizer,scheduler,\n",
    "    criterion, device, dataloader, val_dataloader\n",
    ")"
   ]
  }
 ],
 "metadata": {
  "kernelspec": {
   "display_name": "Python 3.9.13 ('pytorch1.10')",
   "language": "python",
   "name": "python3"
  },
  "language_info": {
   "codemirror_mode": {
    "name": "ipython",
    "version": 3
   },
   "file_extension": ".py",
   "mimetype": "text/x-python",
   "name": "python",
   "nbconvert_exporter": "python",
   "pygments_lexer": "ipython3",
   "version": "3.9.13"
  },
  "orig_nbformat": 4,
  "vscode": {
   "interpreter": {
    "hash": "ed5d878878b9f6b71826320145ffe862892db6a15203f4cdc0137670dfd93d2b"
   }
  }
 },
 "nbformat": 4,
 "nbformat_minor": 2
}
